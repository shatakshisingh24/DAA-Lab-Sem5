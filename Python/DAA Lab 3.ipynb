{
 "cells": [
  {
   "cell_type": "markdown",
   "metadata": {},
   "source": [
    "# Bubble Sort\n",
    "Bubble sort has a worst-case and average complexity of О(n2), where n is the number of items being sorted. Most practical sorting algorithms have substantially better worst-case or average complexity, often O(n log n)."
   ]
  },
  {
   "cell_type": "code",
   "execution_count": 11,
   "metadata": {},
   "outputs": [
    {
     "name": "stdout",
     "output_type": "stream",
     "text": [
      "Sorted array is:\n",
      "11 12 22 25 34 64 90 "
     ]
    }
   ],
   "source": [
    "def bubbleSort(arr): \n",
    "    n = len(arr)  \n",
    "    for i in range(n): \n",
    "        for j in range(0, n-i-1): \n",
    "            if arr[j] > arr[j+1] : \n",
    "                arr[j], arr[j+1] = arr[j+1], arr[j] \n",
    " \n",
    "lst= [64, 34, 25, 12, 22, 11, 90]\n",
    "\n",
    "bubbleSort(arr) \n",
    "\n",
    "print (\"Sorted array is:\") \n",
    "for i in range(len(arr)): \n",
    "    print(arr[i], end=' ') \n"
   ]
  },
  {
   "cell_type": "markdown",
   "metadata": {},
   "source": [
    "# Bubble Sort using Recursion"
   ]
  },
  {
   "cell_type": "code",
   "execution_count": 9,
   "metadata": {},
   "outputs": [
    {
     "name": "stdout",
     "output_type": "stream",
     "text": [
      "Sorted array:\n",
      "11 12 22 25 34 64 90 "
     ]
    }
   ],
   "source": [
    "def bubble_sort(lst): \n",
    "    for i, num in enumerate(lst): \n",
    "        try: \n",
    "            if lst[i+1] < num: \n",
    "                lst[i] = lst[i+1] \n",
    "                lst[i+1] = num \n",
    "                bubble_sort(lst) \n",
    "        except IndexError: \n",
    "            pass\n",
    "    return lst \n",
    "\n",
    "lst = [64, 34, 25, 12, 22, 11, 90] \n",
    "bubble_sort(lst) \n",
    "\n",
    "print(\"Sorted array:\"); \n",
    "for i in range(0, len(lst)): \n",
    "    print(lst[i], end=' ') "
   ]
  },
  {
   "cell_type": "code",
   "execution_count": null,
   "metadata": {},
   "outputs": [],
   "source": []
  }
 ],
 "metadata": {
  "kernelspec": {
   "display_name": "Python 3",
   "language": "python",
   "name": "python3"
  },
  "language_info": {
   "codemirror_mode": {
    "name": "ipython",
    "version": 3
   },
   "file_extension": ".py",
   "mimetype": "text/x-python",
   "name": "python",
   "nbconvert_exporter": "python",
   "pygments_lexer": "ipython3",
   "version": "3.7.6"
  }
 },
 "nbformat": 4,
 "nbformat_minor": 4
}
