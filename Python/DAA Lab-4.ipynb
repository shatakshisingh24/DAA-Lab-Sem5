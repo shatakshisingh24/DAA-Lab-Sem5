{
 "cells": [
  {
   "cell_type": "markdown",
   "metadata": {},
   "source": [
    "# Selection Sort using array"
   ]
  },
  {
   "cell_type": "code",
   "execution_count": 5,
   "metadata": {},
   "outputs": [
    {
     "name": "stdout",
     "output_type": "stream",
     "text": [
      "Sorted array\n",
      "11 12 22 25 64 "
     ]
    }
   ],
   "source": [
    "import sys \n",
    "A = [64, 25, 12, 22, 11] \n",
    " \n",
    "for i in range(len(A)): \n",
    "\n",
    "    # Find the minimum element in remaining \n",
    "    # unsorted array \n",
    "    min_idx = i \n",
    "    for j in range(i+1, len(A)): \n",
    "        if A[min_idx] > A[j]: \n",
    "            min_idx = j \n",
    "            \n",
    "    # Swap the found minimum element with the first element\n",
    "    A[i], A[min_idx] = A[min_idx], A[i] \n",
    "\n",
    "# Driver code to test above \n",
    "print (\"Sorted array\") \n",
    "for i in range(len(A)): \n",
    "    print(A[i], end=' ')\n"
   ]
  },
  {
   "cell_type": "markdown",
   "metadata": {},
   "source": [
    "# Selection sort using recursion"
   ]
  },
  {
   "cell_type": "code",
   "execution_count": 11,
   "metadata": {},
   "outputs": [
    {
     "name": "stdout",
     "output_type": "stream",
     "text": [
      "0 1 2 3 5 7 "
     ]
    }
   ],
   "source": [
    "def minIndex( a , i , j ): \n",
    "    if i == j: \n",
    "        return i \n",
    "    k = minIndex(a, i + 1, j)\n",
    "    # Return minimum of current \n",
    "    # and remaining. \n",
    "    return (i if a[i] < a[k] else k) \n",
    "\n",
    "def recurSelectionSort(a, n, index = 0): \n",
    "\n",
    "\n",
    "    if index == n: \n",
    "        return -1\n",
    "        \n",
    "\n",
    "    k = minIndex(a, index, n-1) \n",
    "\n",
    "    if k != index: \n",
    "        a[k], a[index] = a[index], a[k] \n",
    "        \n",
    "\n",
    "    recurSelectionSort(a, n, index + 1) \n",
    "    \n",
    " \n",
    "arr = [3, 1, 5, 2, 7, 0] \n",
    "n = len(arr)  \n",
    "recurSelectionSort(arr, n) \n",
    " \n",
    "for i in arr: \n",
    "    print(i, end = ' ') "
   ]
  },
  {
   "cell_type": "code",
   "execution_count": 12,
   "metadata": {},
   "outputs": [
    {
     "name": "stdout",
     "output_type": "stream",
     "text": [
      "Linked list before sorting:\n",
      "10 12 8 4 6 \n",
      "Linked list after sorting:\n",
      "4 6 8 10 12 "
     ]
    }
   ],
   "source": [
    "class Node:  \n",
    "    def __init__(self, data):  \n",
    "        self.data = data  \n",
    "        self.next = None\n",
    "  \n",
    "# function to swap nodes 'currX' and 'currY' in a  \n",
    "# linked list without swapping data  \n",
    "def swapNodes(head_ref, currX, currY, prevY) : \n",
    "  \n",
    "    # make 'currY' as new head  \n",
    "    head_ref = currY  \n",
    "  \n",
    "    # adjust links  \n",
    "    prevY.next = currX  \n",
    "  \n",
    "    # Swap next pointers  \n",
    "    temp = currY.next\n",
    "    currY.next = currX.next\n",
    "    currX.next = temp  \n",
    "    return head_ref \n",
    "  \n",
    "# function to sort the linked list using  \n",
    "# recursive selection sort technique  \n",
    "def recurSelectionSort( head) : \n",
    "  \n",
    "    # if there is only a single node  \n",
    "    if (head.next == None) : \n",
    "        return head  \n",
    "  \n",
    "    # 'min' - pointer to store the node having  \n",
    "    # minimum data value  \n",
    "    min = head  \n",
    "  \n",
    "    # 'beforeMin' - pointer to store node previous  \n",
    "    # to 'min' node  \n",
    "    beforeMin = None\n",
    "    ptr = head \n",
    "      \n",
    "    # traverse the list till the last node  \n",
    "    while ( ptr.next != None ) : \n",
    "      \n",
    "        # if true, then update 'min' and 'beforeMin'  \n",
    "        if (ptr.next.data < min.data) : \n",
    "          \n",
    "            min = ptr.next\n",
    "            beforeMin = ptr  \n",
    "              \n",
    "        ptr = ptr.next\n",
    "      \n",
    "    # if 'min' and 'head' are not same,  \n",
    "    # swap the head node with the 'min' node  \n",
    "    if (min != head) : \n",
    "        head = swapNodes(head, head, min, beforeMin)  \n",
    "  \n",
    "    # recursively sort the remaining list  \n",
    "    head.next = recurSelectionSort(head.next)  \n",
    "  \n",
    "    return head  \n",
    "  \n",
    "# function to sort the given linked list  \n",
    "def sort( head_ref) : \n",
    "  \n",
    "    # if list is empty  \n",
    "    if ((head_ref) == None) : \n",
    "        return None\n",
    "  \n",
    "    # sort the list using recursive selection  \n",
    "    # sort technique  \n",
    "    head_ref = recurSelectionSort(head_ref)  \n",
    "    return head_ref \n",
    "  \n",
    "# function to insert a node at the  \n",
    "# beginning of the linked list  \n",
    "def push( head_ref, new_data) : \n",
    "  \n",
    "    # allocate node  \n",
    "    new_node = Node(0)  \n",
    "  \n",
    "    # put in the data  \n",
    "    new_node.data = new_data  \n",
    "  \n",
    "    # link the old list to the new node  \n",
    "    new_node.next = (head_ref)  \n",
    "  \n",
    "    # move the head to point to the new node  \n",
    "    (head_ref) = new_node  \n",
    "    return head_ref \n",
    "  \n",
    "# function to print the linked list  \n",
    "def printList( head) : \n",
    "  \n",
    "    while (head != None) : \n",
    "      \n",
    "        print( head.data ,end = \" \")  \n",
    "        head = head.next\n",
    "      \n",
    "# Driver code  \n",
    "head = None\n",
    "  \n",
    "# create linked list 10.12.8.4.6  \n",
    "head = push(head, 6)  \n",
    "head = push(head, 4)  \n",
    "head = push(head, 8)  \n",
    "head = push(head, 12)  \n",
    "head = push(head, 10)  \n",
    "  \n",
    "print( \"Linked list before sorting:\")  \n",
    "printList(head)  \n",
    "  \n",
    "# sort the linked list  \n",
    "head = sort(head)  \n",
    "  \n",
    "print( \"\\nLinked list after sorting:\")  \n",
    "printList(head)  \n",
    "  "
   ]
  },
  {
   "cell_type": "code",
   "execution_count": null,
   "metadata": {},
   "outputs": [],
   "source": []
  }
 ],
 "metadata": {
  "kernelspec": {
   "display_name": "Python 3",
   "language": "python",
   "name": "python3"
  },
  "language_info": {
   "codemirror_mode": {
    "name": "ipython",
    "version": 3
   },
   "file_extension": ".py",
   "mimetype": "text/x-python",
   "name": "python",
   "nbconvert_exporter": "python",
   "pygments_lexer": "ipython3",
   "version": "3.7.6"
  }
 },
 "nbformat": 4,
 "nbformat_minor": 4
}
