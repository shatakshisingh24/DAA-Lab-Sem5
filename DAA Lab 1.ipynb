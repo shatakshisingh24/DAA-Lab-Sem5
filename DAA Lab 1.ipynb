{
 "cells": [
  {
   "cell_type": "markdown",
   "metadata": {},
   "source": [
    "# Linear Search using array"
   ]
  },
  {
   "cell_type": "code",
   "execution_count": 14,
   "metadata": {},
   "outputs": [
    {
     "name": "stdout",
     "output_type": "stream",
     "text": [
      "element found at index 2\n"
     ]
    }
   ],
   "source": [
    "def linearsearch(arr, x):\n",
    "   for i in range(len(arr)):\n",
    "      if arr[i] == x:\n",
    "         return i\n",
    "   return -1\n",
    "   \n",
    "arr = [1,3,4,7,2,9,5]\n",
    "x = 4\n",
    "print(\"element found at index \"+str(linearsearch(arr,x)))"
   ]
  },
  {
   "cell_type": "markdown",
   "metadata": {},
   "source": [
    "# Linear search using Linked List"
   ]
  },
  {
   "cell_type": "code",
   "execution_count": 31,
   "metadata": {},
   "outputs": [
    {
     "name": "stdout",
     "output_type": "stream",
     "text": [
      "1\n",
      "2\n",
      "3\n",
      "4\n",
      "5\n",
      "False\n",
      "False\n",
      "False\n"
     ]
    }
   ],
   "source": [
    "class Node(object):\n",
    "    def __init__(self, value: int, next_node: \"Node\" = None):\n",
    "        self.value = value\n",
    "        self.next_node = next_node\n",
    "\n",
    "    def __repr__(self):\n",
    "        return \"Node <{}>\".format(self.value)\n",
    "\n",
    "\n",
    "def find(head: Node, value: int) -> bool:\n",
    "      current_node = head\n",
    "      x=0\n",
    "      while current_node is not None:\n",
    "          x=x+1\n",
    "          if current_node.value == value:\n",
    "            return x\n",
    "          current_node = current_node.next_node\n",
    "\n",
    "      return False\n",
    "\n",
    "\n",
    "if __name__ == '__main__':\n",
    "    linked_list = Node(1, Node(2, Node(3, Node(4, Node(5)))))\n",
    "    for i in range(1, 9):\n",
    "        print(find(linked_list, i))\n",
    "        "
   ]
  },
  {
   "cell_type": "code",
   "execution_count": null,
   "metadata": {},
   "outputs": [],
   "source": []
  }
 ],
 "metadata": {
  "kernelspec": {
   "display_name": "Python 3",
   "language": "python",
   "name": "python3"
  },
  "language_info": {
   "codemirror_mode": {
    "name": "ipython",
    "version": 3
   },
   "file_extension": ".py",
   "mimetype": "text/x-python",
   "name": "python",
   "nbconvert_exporter": "python",
   "pygments_lexer": "ipython3",
   "version": "3.7.6"
  }
 },
 "nbformat": 4,
 "nbformat_minor": 4
}
